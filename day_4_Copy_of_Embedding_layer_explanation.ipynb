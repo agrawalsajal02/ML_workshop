{
  "nbformat": 4,
  "nbformat_minor": 0,
  "metadata": {
    "colab": {
      "name": "Copy of Embedding_layer_explanation.ipynb",
      "provenance": [],
      "collapsed_sections": [],
      "include_colab_link": true
    },
    "kernelspec": {
      "name": "python3",
      "display_name": "Python 3"
    },
    "accelerator": "GPU"
  },
  "cells": [
    {
      "cell_type": "markdown",
      "metadata": {
        "id": "view-in-github",
        "colab_type": "text"
      },
      "source": [
        "<a href=\"https://colab.research.google.com/github/agrawalsajal02/ML_workshop/blob/master/day_4_Copy_of_Embedding_layer_explanation.ipynb\" target=\"_parent\"><img src=\"https://colab.research.google.com/assets/colab-badge.svg\" alt=\"Open In Colab\"/></a>"
      ]
    },
    {
      "cell_type": "markdown",
      "metadata": {
        "id": "-U5y-TNuAPVA",
        "colab_type": "text"
      },
      "source": [
        "The notebook is written for a better understanding of the Embedding layer. How a sentence is given to the neural network model is explained step by step. "
      ]
    },
    {
      "cell_type": "code",
      "metadata": {
        "id": "PvWwszVsYCxj",
        "colab_type": "code",
        "outputId": "79af54b4-c292-488b-9c57-c4e668d0dbaf",
        "colab": {
          "base_uri": "https://localhost:8080/",
          "height": 124
        }
      },
      "source": [
        "from google.colab import drive\n",
        "drive.mount('/content/drive')"
      ],
      "execution_count": 0,
      "outputs": [
        {
          "output_type": "stream",
          "text": [
            "Go to this URL in a browser: https://accounts.google.com/o/oauth2/auth?client_id=947318989803-6bn6qk8qdgf4n4g3pfee6491hc0brc4i.apps.googleusercontent.com&redirect_uri=urn%3aietf%3awg%3aoauth%3a2.0%3aoob&response_type=code&scope=email%20https%3a%2f%2fwww.googleapis.com%2fauth%2fdocs.test%20https%3a%2f%2fwww.googleapis.com%2fauth%2fdrive%20https%3a%2f%2fwww.googleapis.com%2fauth%2fdrive.photos.readonly%20https%3a%2f%2fwww.googleapis.com%2fauth%2fpeopleapi.readonly\n",
            "\n",
            "Enter your authorization code:\n",
            "··········\n",
            "Mounted at /content/drive\n"
          ],
          "name": "stdout"
        }
      ]
    },
    {
      "cell_type": "code",
      "metadata": {
        "id": "68RFfyPqYTE9",
        "colab_type": "code",
        "outputId": "6627f6dc-3b0a-4415-cd5b-daf4c7902a74",
        "colab": {
          "base_uri": "https://localhost:8080/",
          "height": 34
        }
      },
      "source": [
        "cd /content/drive/My Drive/Phd_implementation/FDP_exp_2020/Day3"
      ],
      "execution_count": 0,
      "outputs": [
        {
          "output_type": "stream",
          "text": [
            "/content/drive/My Drive/Phd_implementation/FDP_exp_2020/Day3\n"
          ],
          "name": "stdout"
        }
      ]
    },
    {
      "cell_type": "code",
      "metadata": {
        "id": "4FF94vwtD8J9",
        "colab_type": "code",
        "outputId": "70b52a8e-714c-4ecf-a21a-c4468c930e78",
        "colab": {
          "base_uri": "https://localhost:8080/",
          "height": 80
        }
      },
      "source": [
        "from tensorflow.keras.models import Sequential\n",
        "from tensorflow.keras.layers import Embedding\n",
        "import numpy as np\n",
        "from numpy import array\n",
        "from tensorflow.keras.preprocessing.sequence import pad_sequences\n",
        "from tensorflow.keras.models import Sequential\n",
        "from tensorflow.keras.layers import Flatten, Embedding, Dense\n",
        "from keras.preprocessing.text import Tokenizer"
      ],
      "execution_count": 0,
      "outputs": [
        {
          "output_type": "display_data",
          "data": {
            "text/html": [
              "<p style=\"color: red;\">\n",
              "The default version of TensorFlow in Colab will soon switch to TensorFlow 2.x.<br>\n",
              "We recommend you <a href=\"https://www.tensorflow.org/guide/migrate\" target=\"_blank\">upgrade</a> now \n",
              "or ensure your notebook will continue to use TensorFlow 1.x via the <code>%tensorflow_version 1.x</code> magic:\n",
              "<a href=\"https://colab.research.google.com/notebooks/tensorflow_version.ipynb\" target=\"_blank\">more info</a>.</p>\n"
            ],
            "text/plain": [
              "<IPython.core.display.HTML object>"
            ]
          },
          "metadata": {
            "tags": []
          }
        },
        {
          "output_type": "stream",
          "text": [
            "Using TensorFlow backend.\n"
          ],
          "name": "stderr"
        }
      ]
    },
    {
      "cell_type": "code",
      "metadata": {
        "id": "6T0Brvb9Dj3V",
        "colab_type": "code",
        "colab": {}
      },
      "source": [
        "reviews = [\n",
        "    'Never coming back!',\n",
        "    'Horrible service',\n",
        "    'Rude waitress',\n",
        "    'Cold food.',\n",
        "    'Horrible food!',\n",
        "    'Awesome',\n",
        "    'Awesome service!',\n",
        "    'Rocks!',\n",
        "    'poor work',\n",
        "    'Couldn\\'t have done better']\n",
        "\n",
        "# Define labels (1=negative, 0=positive)\n",
        "labels = array([1,1,1,1,1,0,0,0,0,0])"
      ],
      "execution_count": 0,
      "outputs": []
    },
    {
      "cell_type": "code",
      "metadata": {
        "id": "VevgpxUwm13A",
        "colab_type": "code",
        "outputId": "82163436-7cfd-499e-defb-266d9bef766f",
        "colab": {
          "base_uri": "https://localhost:8080/",
          "height": 190
        }
      },
      "source": [
        "reviews"
      ],
      "execution_count": 0,
      "outputs": [
        {
          "output_type": "execute_result",
          "data": {
            "text/plain": [
              "['Never coming back!',\n",
              " 'Horrible service',\n",
              " 'Rude waitress',\n",
              " 'Cold food.',\n",
              " 'Horrible food!',\n",
              " 'Awesome',\n",
              " 'Awesome service!',\n",
              " 'Rocks!',\n",
              " 'poor work',\n",
              " \"Couldn't have done better\"]"
            ]
          },
          "metadata": {
            "tags": []
          },
          "execution_count": 5
        }
      ]
    },
    {
      "cell_type": "code",
      "metadata": {
        "id": "kTyJ3g9wFBEq",
        "colab_type": "code",
        "colab": {}
      },
      "source": [
        "tokenizer = Tokenizer(lower= True)\n",
        "tokenizer.fit_on_texts(reviews)\n"
      ],
      "execution_count": 0,
      "outputs": []
    },
    {
      "cell_type": "code",
      "metadata": {
        "id": "MPGjgi_IFYM4",
        "colab_type": "code",
        "outputId": "81dcf13c-7160-409d-db98-546412f29578",
        "colab": {
          "base_uri": "https://localhost:8080/",
          "height": 311
        }
      },
      "source": [
        "tokenizer.word_index"
      ],
      "execution_count": 0,
      "outputs": [
        {
          "output_type": "execute_result",
          "data": {
            "text/plain": [
              "{'awesome': 4,\n",
              " 'back': 7,\n",
              " 'better': 17,\n",
              " 'cold': 10,\n",
              " 'coming': 6,\n",
              " \"couldn't\": 14,\n",
              " 'done': 16,\n",
              " 'food': 3,\n",
              " 'have': 15,\n",
              " 'horrible': 1,\n",
              " 'never': 5,\n",
              " 'poor': 12,\n",
              " 'rocks': 11,\n",
              " 'rude': 8,\n",
              " 'service': 2,\n",
              " 'waitress': 9,\n",
              " 'work': 13}"
            ]
          },
          "metadata": {
            "tags": []
          },
          "execution_count": 7
        }
      ]
    },
    {
      "cell_type": "code",
      "metadata": {
        "id": "94mkb26awXwC",
        "colab_type": "code",
        "colab": {}
      },
      "source": [
        "VOCAB_SIZE = len(tokenizer.word_index)"
      ],
      "execution_count": 0,
      "outputs": []
    },
    {
      "cell_type": "code",
      "metadata": {
        "id": "NA20pQC3wc-0",
        "colab_type": "code",
        "outputId": "0cb72f58-0d6e-472a-ce5d-fdcd837c0608",
        "colab": {
          "base_uri": "https://localhost:8080/",
          "height": 34
        }
      },
      "source": [
        "VOCAB_SIZE"
      ],
      "execution_count": 0,
      "outputs": [
        {
          "output_type": "execute_result",
          "data": {
            "text/plain": [
              "17"
            ]
          },
          "metadata": {
            "tags": []
          },
          "execution_count": 9
        }
      ]
    },
    {
      "cell_type": "code",
      "metadata": {
        "id": "aYrMk3-dVseZ",
        "colab_type": "code",
        "colab": {}
      },
      "source": [
        "word_index = tokenizer.word_index"
      ],
      "execution_count": 0,
      "outputs": []
    },
    {
      "cell_type": "code",
      "metadata": {
        "id": "SagRfQYKFi-R",
        "colab_type": "code",
        "colab": {}
      },
      "source": [
        "data_sequence = tokenizer.texts_to_sequences(reviews)"
      ],
      "execution_count": 0,
      "outputs": []
    },
    {
      "cell_type": "code",
      "metadata": {
        "id": "n4qkhimWFp45",
        "colab_type": "code",
        "outputId": "4b66f395-4a5a-48c7-efa4-35563e61c59c",
        "colab": {
          "base_uri": "https://localhost:8080/",
          "height": 190
        }
      },
      "source": [
        "data_sequence"
      ],
      "execution_count": 0,
      "outputs": [
        {
          "output_type": "execute_result",
          "data": {
            "text/plain": [
              "[[5, 6, 7],\n",
              " [1, 2],\n",
              " [8, 9],\n",
              " [10, 3],\n",
              " [1, 3],\n",
              " [4],\n",
              " [4, 2],\n",
              " [11],\n",
              " [12, 13],\n",
              " [14, 15, 16, 17]]"
            ]
          },
          "metadata": {
            "tags": []
          },
          "execution_count": 12
        }
      ]
    },
    {
      "cell_type": "code",
      "metadata": {
        "id": "nDox9TxTDu2M",
        "colab_type": "code",
        "outputId": "1c2e15b6-67f8-4f5a-91b5-4ecf2df7acff",
        "colab": {
          "base_uri": "https://localhost:8080/",
          "height": 190
        }
      },
      "source": [
        "padded_reviews = pad_sequences(data_sequence, maxlen=4, padding='post')\n",
        "print(padded_reviews)"
      ],
      "execution_count": 0,
      "outputs": [
        {
          "output_type": "stream",
          "text": [
            "[[ 5  6  7  0]\n",
            " [ 1  2  0  0]\n",
            " [ 8  9  0  0]\n",
            " [10  3  0  0]\n",
            " [ 1  3  0  0]\n",
            " [ 4  0  0  0]\n",
            " [ 4  2  0  0]\n",
            " [11  0  0  0]\n",
            " [12 13  0  0]\n",
            " [14 15 16 17]]\n"
          ],
          "name": "stdout"
        }
      ]
    },
    {
      "cell_type": "code",
      "metadata": {
        "id": "GA10etl-D1ou",
        "colab_type": "code",
        "colab": {}
      },
      "source": [
        "model = Sequential()\n",
        "embedding_layer = Embedding(input_dim = VOCAB_SIZE+1, output_dim= 8, input_length=4)\n",
        "model.add(embedding_layer)\n"
      ],
      "execution_count": 0,
      "outputs": []
    },
    {
      "cell_type": "code",
      "metadata": {
        "id": "pJHGBEKkkJHL",
        "colab_type": "code",
        "outputId": "150f3761-d76f-41af-c018-08614f0290be",
        "colab": {
          "base_uri": "https://localhost:8080/",
          "height": 207
        }
      },
      "source": [
        "model.compile(optimizer='adam', loss='binary_crossentropy', metrics=['acc'])\n",
        "print(model.summary())"
      ],
      "execution_count": 0,
      "outputs": [
        {
          "output_type": "stream",
          "text": [
            "Model: \"sequential_1\"\n",
            "_________________________________________________________________\n",
            "Layer (type)                 Output Shape              Param #   \n",
            "=================================================================\n",
            "embedding_1 (Embedding)      (None, 4, 8)              144       \n",
            "=================================================================\n",
            "Total params: 144\n",
            "Trainable params: 144\n",
            "Non-trainable params: 0\n",
            "_________________________________________________________________\n",
            "None\n"
          ],
          "name": "stdout"
        }
      ]
    },
    {
      "cell_type": "code",
      "metadata": {
        "id": "Q_Ka_1mzEZg9",
        "colab_type": "code",
        "outputId": "b7a37715-8af5-49bc-ec20-cf227cba8c43",
        "colab": {
          "base_uri": "https://localhost:8080/",
          "height": 639
        }
      },
      "source": [
        "embedding_layer_weight = embedding_layer.get_weights()\n",
        "embedding_layer_weight"
      ],
      "execution_count": 0,
      "outputs": [
        {
          "output_type": "execute_result",
          "data": {
            "text/plain": [
              "[array([[ 0.03754839, -0.01140768,  0.01770461,  0.04112263, -0.01685237,\n",
              "          0.0338383 , -0.03391452, -0.00789679],\n",
              "        [ 0.03120956,  0.0468156 ,  0.03137118, -0.03447262, -0.00221352,\n",
              "          0.03953988, -0.03042998, -0.03557882],\n",
              "        [ 0.01556459, -0.03488901, -0.04846075,  0.01894421, -0.02828982,\n",
              "         -0.04271015, -0.04923547,  0.0346146 ],\n",
              "        [-0.01893415,  0.00939966, -0.00080925,  0.02643875, -0.02740996,\n",
              "          0.0109603 ,  0.02903092,  0.04280638],\n",
              "        [ 0.02069538, -0.00645801,  0.01021387, -0.02865515, -0.03872925,\n",
              "          0.00639854,  0.03008026, -0.02871486],\n",
              "        [ 0.03550676,  0.01159666, -0.01662052,  0.04219048,  0.02616277,\n",
              "         -0.02120087, -0.02331743, -0.01782275],\n",
              "        [-0.04229592,  0.00636043, -0.01371652, -0.0197389 , -0.01260028,\n",
              "          0.02183018,  0.02069321,  0.02314886],\n",
              "        [-0.00791813,  0.03559052, -0.03377806, -0.04331576,  0.00788231,\n",
              "          0.0249253 , -0.03413322, -0.03084936],\n",
              "        [-0.03422507,  0.03746592,  0.0158794 , -0.03060178,  0.00289103,\n",
              "         -0.01153123,  0.04982742, -0.01298762],\n",
              "        [ 0.03943111,  0.01436422,  0.00667568,  0.04622649,  0.04337454,\n",
              "          0.00679755,  0.00306199,  0.04074644],\n",
              "        [-0.00045852,  0.01620504, -0.00246434,  0.03050102,  0.03442046,\n",
              "          0.02839715, -0.01426606, -0.03440461],\n",
              "        [-0.03244046,  0.04306732, -0.02244269,  0.03934929,  0.03737929,\n",
              "         -0.02769853, -0.02774439,  0.01057816],\n",
              "        [ 0.0062207 , -0.00167454, -0.02039449, -0.03229292, -0.03460805,\n",
              "         -0.01270367,  0.02451643, -0.04370807],\n",
              "        [-0.03012045, -0.02940146,  0.00105423,  0.03658361,  0.01635646,\n",
              "         -0.03986667,  0.04374698,  0.04733962],\n",
              "        [-0.04283015,  0.03885124, -0.03907101,  0.01506856, -0.00771356,\n",
              "          0.0009222 , -0.00448985, -0.01471363],\n",
              "        [ 0.03072574, -0.0317931 ,  0.03091862, -0.01968073,  0.01893568,\n",
              "         -0.04611241, -0.03831575,  0.00142638],\n",
              "        [ 0.04185671, -0.01976037,  0.02911855, -0.00443031, -0.03898045,\n",
              "         -0.02845004,  0.02542574, -0.04638096],\n",
              "        [-0.00256658, -0.01322255,  0.04432409, -0.01913348,  0.04936086,\n",
              "         -0.04799929, -0.010336  ,  0.00418437]], dtype=float32)]"
            ]
          },
          "metadata": {
            "tags": []
          },
          "execution_count": 19
        }
      ]
    },
    {
      "cell_type": "code",
      "metadata": {
        "id": "AY7kLThFGW3O",
        "colab_type": "code",
        "outputId": "7d06f0e0-5889-4784-e312-ccc8e9cb55ec",
        "colab": {
          "base_uri": "https://localhost:8080/",
          "height": 34
        }
      },
      "source": [
        "embedding_layer_weight[0].shape"
      ],
      "execution_count": 0,
      "outputs": [
        {
          "output_type": "execute_result",
          "data": {
            "text/plain": [
              "(18, 8)"
            ]
          },
          "metadata": {
            "tags": []
          },
          "execution_count": 20
        }
      ]
    },
    {
      "cell_type": "code",
      "metadata": {
        "id": "V4muF_Rz08Kq",
        "colab_type": "code",
        "colab": {}
      },
      "source": [
        "#embedding_layer_weight[0][0]"
      ],
      "execution_count": 0,
      "outputs": []
    },
    {
      "cell_type": "code",
      "metadata": {
        "id": "JZ0FQg-jGkJ8",
        "colab_type": "code",
        "outputId": "abd26cd9-8fc9-4aea-ae80-dc6019ce8db5",
        "colab": {
          "base_uri": "https://localhost:8080/",
          "height": 1000
        }
      },
      "source": [
        "pred = model.predict(padded_reviews)\n",
        "pred\n"
      ],
      "execution_count": 0,
      "outputs": [
        {
          "output_type": "execute_result",
          "data": {
            "text/plain": [
              "array([[[ 0.03550676,  0.01159666, -0.01662052,  0.04219048,\n",
              "          0.02616277, -0.02120087, -0.02331743, -0.01782275],\n",
              "        [-0.04229592,  0.00636043, -0.01371652, -0.0197389 ,\n",
              "         -0.01260028,  0.02183018,  0.02069321,  0.02314886],\n",
              "        [-0.00791813,  0.03559052, -0.03377806, -0.04331576,\n",
              "          0.00788231,  0.0249253 , -0.03413322, -0.03084936],\n",
              "        [ 0.03754839, -0.01140768,  0.01770461,  0.04112263,\n",
              "         -0.01685237,  0.0338383 , -0.03391452, -0.00789679]],\n",
              "\n",
              "       [[ 0.03120956,  0.0468156 ,  0.03137118, -0.03447262,\n",
              "         -0.00221352,  0.03953988, -0.03042998, -0.03557882],\n",
              "        [ 0.01556459, -0.03488901, -0.04846075,  0.01894421,\n",
              "         -0.02828982, -0.04271015, -0.04923547,  0.0346146 ],\n",
              "        [ 0.03754839, -0.01140768,  0.01770461,  0.04112263,\n",
              "         -0.01685237,  0.0338383 , -0.03391452, -0.00789679],\n",
              "        [ 0.03754839, -0.01140768,  0.01770461,  0.04112263,\n",
              "         -0.01685237,  0.0338383 , -0.03391452, -0.00789679]],\n",
              "\n",
              "       [[-0.03422507,  0.03746592,  0.0158794 , -0.03060178,\n",
              "          0.00289103, -0.01153123,  0.04982742, -0.01298762],\n",
              "        [ 0.03943111,  0.01436422,  0.00667568,  0.04622649,\n",
              "          0.04337454,  0.00679755,  0.00306199,  0.04074644],\n",
              "        [ 0.03754839, -0.01140768,  0.01770461,  0.04112263,\n",
              "         -0.01685237,  0.0338383 , -0.03391452, -0.00789679],\n",
              "        [ 0.03754839, -0.01140768,  0.01770461,  0.04112263,\n",
              "         -0.01685237,  0.0338383 , -0.03391452, -0.00789679]],\n",
              "\n",
              "       [[-0.00045852,  0.01620504, -0.00246434,  0.03050102,\n",
              "          0.03442046,  0.02839715, -0.01426606, -0.03440461],\n",
              "        [-0.01893415,  0.00939966, -0.00080925,  0.02643875,\n",
              "         -0.02740996,  0.0109603 ,  0.02903092,  0.04280638],\n",
              "        [ 0.03754839, -0.01140768,  0.01770461,  0.04112263,\n",
              "         -0.01685237,  0.0338383 , -0.03391452, -0.00789679],\n",
              "        [ 0.03754839, -0.01140768,  0.01770461,  0.04112263,\n",
              "         -0.01685237,  0.0338383 , -0.03391452, -0.00789679]],\n",
              "\n",
              "       [[ 0.03120956,  0.0468156 ,  0.03137118, -0.03447262,\n",
              "         -0.00221352,  0.03953988, -0.03042998, -0.03557882],\n",
              "        [-0.01893415,  0.00939966, -0.00080925,  0.02643875,\n",
              "         -0.02740996,  0.0109603 ,  0.02903092,  0.04280638],\n",
              "        [ 0.03754839, -0.01140768,  0.01770461,  0.04112263,\n",
              "         -0.01685237,  0.0338383 , -0.03391452, -0.00789679],\n",
              "        [ 0.03754839, -0.01140768,  0.01770461,  0.04112263,\n",
              "         -0.01685237,  0.0338383 , -0.03391452, -0.00789679]],\n",
              "\n",
              "       [[ 0.02069538, -0.00645801,  0.01021387, -0.02865515,\n",
              "         -0.03872925,  0.00639854,  0.03008026, -0.02871486],\n",
              "        [ 0.03754839, -0.01140768,  0.01770461,  0.04112263,\n",
              "         -0.01685237,  0.0338383 , -0.03391452, -0.00789679],\n",
              "        [ 0.03754839, -0.01140768,  0.01770461,  0.04112263,\n",
              "         -0.01685237,  0.0338383 , -0.03391452, -0.00789679],\n",
              "        [ 0.03754839, -0.01140768,  0.01770461,  0.04112263,\n",
              "         -0.01685237,  0.0338383 , -0.03391452, -0.00789679]],\n",
              "\n",
              "       [[ 0.02069538, -0.00645801,  0.01021387, -0.02865515,\n",
              "         -0.03872925,  0.00639854,  0.03008026, -0.02871486],\n",
              "        [ 0.01556459, -0.03488901, -0.04846075,  0.01894421,\n",
              "         -0.02828982, -0.04271015, -0.04923547,  0.0346146 ],\n",
              "        [ 0.03754839, -0.01140768,  0.01770461,  0.04112263,\n",
              "         -0.01685237,  0.0338383 , -0.03391452, -0.00789679],\n",
              "        [ 0.03754839, -0.01140768,  0.01770461,  0.04112263,\n",
              "         -0.01685237,  0.0338383 , -0.03391452, -0.00789679]],\n",
              "\n",
              "       [[-0.03244046,  0.04306732, -0.02244269,  0.03934929,\n",
              "          0.03737929, -0.02769853, -0.02774439,  0.01057816],\n",
              "        [ 0.03754839, -0.01140768,  0.01770461,  0.04112263,\n",
              "         -0.01685237,  0.0338383 , -0.03391452, -0.00789679],\n",
              "        [ 0.03754839, -0.01140768,  0.01770461,  0.04112263,\n",
              "         -0.01685237,  0.0338383 , -0.03391452, -0.00789679],\n",
              "        [ 0.03754839, -0.01140768,  0.01770461,  0.04112263,\n",
              "         -0.01685237,  0.0338383 , -0.03391452, -0.00789679]],\n",
              "\n",
              "       [[ 0.0062207 , -0.00167454, -0.02039449, -0.03229292,\n",
              "         -0.03460805, -0.01270367,  0.02451643, -0.04370807],\n",
              "        [-0.03012045, -0.02940146,  0.00105423,  0.03658361,\n",
              "          0.01635646, -0.03986667,  0.04374698,  0.04733962],\n",
              "        [ 0.03754839, -0.01140768,  0.01770461,  0.04112263,\n",
              "         -0.01685237,  0.0338383 , -0.03391452, -0.00789679],\n",
              "        [ 0.03754839, -0.01140768,  0.01770461,  0.04112263,\n",
              "         -0.01685237,  0.0338383 , -0.03391452, -0.00789679]],\n",
              "\n",
              "       [[-0.04283015,  0.03885124, -0.03907101,  0.01506856,\n",
              "         -0.00771356,  0.0009222 , -0.00448985, -0.01471363],\n",
              "        [ 0.03072574, -0.0317931 ,  0.03091862, -0.01968073,\n",
              "          0.01893568, -0.04611241, -0.03831575,  0.00142638],\n",
              "        [ 0.04185671, -0.01976037,  0.02911855, -0.00443031,\n",
              "         -0.03898045, -0.02845004,  0.02542574, -0.04638096],\n",
              "        [-0.00256658, -0.01322255,  0.04432409, -0.01913348,\n",
              "          0.04936086, -0.04799929, -0.010336  ,  0.00418437]]],\n",
              "      dtype=float32)"
            ]
          },
          "metadata": {
            "tags": []
          },
          "execution_count": 21
        }
      ]
    },
    {
      "cell_type": "code",
      "metadata": {
        "id": "X22HrLyE1DCw",
        "colab_type": "code",
        "outputId": "b02b0caa-5cc5-4177-d53a-6da60bfb6937",
        "colab": {
          "base_uri": "https://localhost:8080/",
          "height": 155
        }
      },
      "source": [
        "pred[0]"
      ],
      "execution_count": 0,
      "outputs": [
        {
          "output_type": "execute_result",
          "data": {
            "text/plain": [
              "array([[ 0.03550676,  0.01159666, -0.01662052,  0.04219048,  0.02616277,\n",
              "        -0.02120087, -0.02331743, -0.01782275],\n",
              "       [-0.04229592,  0.00636043, -0.01371652, -0.0197389 , -0.01260028,\n",
              "         0.02183018,  0.02069321,  0.02314886],\n",
              "       [-0.00791813,  0.03559052, -0.03377806, -0.04331576,  0.00788231,\n",
              "         0.0249253 , -0.03413322, -0.03084936],\n",
              "       [ 0.03754839, -0.01140768,  0.01770461,  0.04112263, -0.01685237,\n",
              "         0.0338383 , -0.03391452, -0.00789679]], dtype=float32)"
            ]
          },
          "metadata": {
            "tags": []
          },
          "execution_count": 22
        }
      ]
    },
    {
      "cell_type": "code",
      "metadata": {
        "id": "ZvPVhI6kGv7S",
        "colab_type": "code",
        "outputId": "59ee54d5-0151-4915-ebaf-8d8ad4a38271",
        "colab": {
          "base_uri": "https://localhost:8080/",
          "height": 34
        }
      },
      "source": [
        "padded_reviews[0]"
      ],
      "execution_count": 0,
      "outputs": [
        {
          "output_type": "execute_result",
          "data": {
            "text/plain": [
              "array([5, 6, 7, 0], dtype=int32)"
            ]
          },
          "metadata": {
            "tags": []
          },
          "execution_count": 23
        }
      ]
    },
    {
      "cell_type": "code",
      "metadata": {
        "id": "DBWjKYKm1NnE",
        "colab_type": "code",
        "outputId": "4f84b2b0-8f03-45b6-c772-d2e8ec4f1c47",
        "colab": {
          "base_uri": "https://localhost:8080/",
          "height": 52
        }
      },
      "source": [
        "embedding_layer_weight[0][0]"
      ],
      "execution_count": 0,
      "outputs": [
        {
          "output_type": "execute_result",
          "data": {
            "text/plain": [
              "array([ 0.03754839, -0.01140768,  0.01770461,  0.04112263, -0.01685237,\n",
              "        0.0338383 , -0.03391452, -0.00789679], dtype=float32)"
            ]
          },
          "metadata": {
            "tags": []
          },
          "execution_count": 26
        }
      ]
    },
    {
      "cell_type": "code",
      "metadata": {
        "id": "tAcVx3U01U8b",
        "colab_type": "code",
        "outputId": "f4547f2e-6116-4234-af96-e44333bb7938",
        "colab": {
          "base_uri": "https://localhost:8080/",
          "height": 34
        }
      },
      "source": [
        "#load pre-trained embedding:\n",
        "embeddings_index = {}\n",
        "f = open('glove.twitter.27B.25d.txt', encoding=\"utf8\")\n",
        "for line in f:\n",
        "    values = line.split()#This splits each values in a  line with spaces\n",
        "    word = values[0] # This store the first values which is the word in english\n",
        "    coefs = np.asarray(values[1:], dtype='float32') # This converts all splitted values from 1 to last(expect first word) into an array\n",
        "    embeddings_index[word] = coefs # english word = array of numerical values\n",
        "f.close()\n",
        "print('Total %s word vectors in Glove 6B 100d.' % len(embeddings_index))"
      ],
      "execution_count": 0,
      "outputs": [
        {
          "output_type": "stream",
          "text": [
            "Total 1193514 word vectors in Glove 6B 100d.\n"
          ],
          "name": "stdout"
        }
      ]
    },
    {
      "cell_type": "code",
      "metadata": {
        "id": "7AMEwNJbVhI6",
        "colab_type": "code",
        "colab": {}
      },
      "source": [
        "# Initialize the weight for each word for the embedding layer. Words not present\n",
        "# in the dictionary initialized by random value \n",
        "EMBEDDING_DIM = 25\n",
        "embedding_matrix = np.random.random((len(word_index) + 1, EMBEDDING_DIM))\n",
        "#embedding_matrix = (16433, 100) NOTE: It is from uniques words in our tweets\n",
        "for word, i in word_index.items(): # Selecting word from our tweet unique words list for changing with the values from glove\n",
        "    embedding_vector = embeddings_index.get(word) # Finding our tweet words in glove and taking its array of 100 values\n",
        "    if embedding_vector is not None: \n",
        "#words not found in embedding index will be all-zeros.\n",
        "        embedding_matrix[i] = embedding_vector\n"
      ],
      "execution_count": 0,
      "outputs": []
    },
    {
      "cell_type": "code",
      "metadata": {
        "id": "IKlUcXGHXN_N",
        "colab_type": "code",
        "outputId": "41a82da7-dfbb-4795-b4cd-08b2f96ee820",
        "colab": {
          "base_uri": "https://localhost:8080/",
          "height": 207
        }
      },
      "source": [
        "model = Sequential()\n",
        "embedding_layer = Embedding(input_dim = VOCAB_SIZE+1, output_dim = 25, weights=[embedding_matrix], input_length=4, trainable = False)\n",
        "model.add(embedding_layer)\n",
        "model.compile(optimizer='adam', loss='binary_crossentropy', metrics=['acc'])\n",
        "print(model.summary())"
      ],
      "execution_count": 0,
      "outputs": [
        {
          "output_type": "stream",
          "text": [
            "Model: \"sequential_2\"\n",
            "_________________________________________________________________\n",
            "Layer (type)                 Output Shape              Param #   \n",
            "=================================================================\n",
            "embedding_2 (Embedding)      (None, 4, 25)             450       \n",
            "=================================================================\n",
            "Total params: 450\n",
            "Trainable params: 0\n",
            "Non-trainable params: 450\n",
            "_________________________________________________________________\n",
            "None\n"
          ],
          "name": "stdout"
        }
      ]
    },
    {
      "cell_type": "code",
      "metadata": {
        "id": "SNvzDHnlXe-j",
        "colab_type": "code",
        "outputId": "c4dac9ff-d3a5-462c-edc4-d373150dacf2",
        "colab": {
          "base_uri": "https://localhost:8080/",
          "height": 1000
        }
      },
      "source": [
        "embedding_layer_weight = embedding_layer.get_weights()\n",
        "embedding_layer_weight"
      ],
      "execution_count": 0,
      "outputs": [
        {
          "output_type": "execute_result",
          "data": {
            "text/plain": [
              "[array([[ 0.96450347,  0.6892435 ,  0.19204415,  0.63665587,  0.6144509 ,\n",
              "          0.08198912,  0.34201977,  0.38128507,  0.14413469,  0.33028036,\n",
              "          0.03865209,  0.290697  ,  0.2600713 ,  0.9479322 ,  0.7827116 ,\n",
              "          0.18350631,  0.7477053 ,  0.2063826 ,  0.37889558,  0.14032003,\n",
              "          0.24321668,  0.0787776 ,  0.32935488,  0.5474995 ,  0.8264487 ],\n",
              "        [ 0.21438   , -0.66014   , -0.16823   ,  0.27111   ,  0.75163   ,\n",
              "          1.4539    ,  1.3342    ,  0.45775   , -1.0655    , -0.43815   ,\n",
              "         -0.3065    , -1.0593    , -3.0458    ,  0.15611   ,  1.9577    ,\n",
              "          1.2217    ,  0.35779   ,  0.4452    , -0.34816   , -0.47898   ,\n",
              "          0.62939   ,  0.82832   ,  0.74702   ,  0.15725   , -0.10929   ],\n",
              "        [-0.30753   ,  0.88404   , -1.0297    , -0.61819   ,  1.0883    ,\n",
              "         -0.51168   ,  0.20697   , -0.43241   ,  1.2657    ,  0.45289   ,\n",
              "          0.51967   ,  0.050615  , -3.8389    ,  0.59332   ,  1.0632    ,\n",
              "          0.32348   ,  0.85886   , -0.043038  , -0.57752   , -0.17569   ,\n",
              "         -0.33373   , -1.6769    , -0.46403   , -0.25104   , -0.54795   ],\n",
              "        [-0.57889   ,  0.52137   , -0.17892   ,  0.2232    ,  0.61681   ,\n",
              "          0.17616   ,  1.6829    , -1.35      ,  0.027486  ,  0.95868   ,\n",
              "          0.22251   , -0.82603   , -4.3866    , -0.5528    ,  0.20004   ,\n",
              "         -0.44304   ,  1.3508    , -1.0176    ,  0.069551  ,  0.023407  ,\n",
              "         -0.21827   , -0.57156   , -0.74594   ,  0.26706   ,  0.96434   ],\n",
              "        [-0.33488   , -0.27497   ,  0.2499    , -1.012     ,  0.38187   ,\n",
              "          0.58403   ,  2.074     ,  0.17416   , -0.54281   , -0.63375   ,\n",
              "         -0.22883   ,  0.87451   , -3.9213    , -0.22059   ,  0.13178   ,\n",
              "          0.22203   ,  0.8799    , -0.76095   , -0.33228   ,  0.29484   ,\n",
              "         -0.62871   , -0.30533   , -0.92823   ,  0.16009   , -0.18372   ],\n",
              "        [ 0.35787   ,  0.53172   ,  0.02891   , -0.11454   , -0.9309    ,\n",
              "         -0.058475  ,  1.6786    , -0.26025   , -0.79749   , -0.29905   ,\n",
              "         -0.049528  ,  0.37763   , -5.4355    , -0.14486   , -0.4962    ,\n",
              "          0.98797   ,  0.12834   , -0.033029  ,  0.52323   , -1.0346    ,\n",
              "          0.55156   ,  0.7415    ,  0.20227   ,  0.67147   ,  0.036255  ],\n",
              "        [-0.72052   ,  0.77606   ,  0.58006   , -0.76466   , -0.45005   ,\n",
              "         -0.21402   ,  1.5047    , -0.40918   , -0.43951   , -0.14405   ,\n",
              "         -0.1272    ,  0.72284   , -4.3729    ,  0.51053   ,  0.42036   ,\n",
              "          0.035156  , -0.10893   , -0.75633   , -0.63182   , -0.35142   ,\n",
              "         -0.31829   , -0.71342   ,  0.51693   ,  0.10108   ,  0.48018   ],\n",
              "        [-0.74355   ,  0.715     , -0.1593    , -0.28136   , -0.736     ,\n",
              "         -0.17702   ,  1.0432    ,  0.62863   , -1.0324    ,  0.44264   ,\n",
              "         -0.11356   ,  0.30086   , -4.7917    , -0.22962   , -0.21154   ,\n",
              "         -0.14965   , -0.31582   , -1.3908    , -0.736     , -0.46094   ,\n",
              "         -0.13124   , -0.96047   ,  1.2604    ,  0.2479    , -0.44585   ],\n",
              "        [ 0.1106    , -0.21242   , -0.54371   ,  0.087623  ,  0.75953   ,\n",
              "          0.48431   ,  1.1578    , -0.92707   , -0.78507   ,  0.16242   ,\n",
              "         -1.7855    ,  0.30589   , -3.113     , -1.0697    ,  0.39149   ,\n",
              "          0.34626   ,  0.2671    , -0.68303   , -0.42439   , -0.84779   ,\n",
              "          1.9041    ,  0.80355   , -0.049907  , -0.64053   , -0.93139   ],\n",
              "        [-1.4825    ,  0.62657   ,  0.62201   ,  0.024574  ,  0.6235    ,\n",
              "         -0.61351   ,  0.38097   , -1.6075    ,  0.45119   ,  0.028282  ,\n",
              "          0.72049   , -0.34335   , -2.0518    , -0.95033   ,  0.34872   ,\n",
              "         -0.0555    ,  1.6582    , -0.72177   , -0.17695   , -0.091959  ,\n",
              "          1.2747    , -0.11061   , -0.74769   , -0.23359   ,  0.033845  ],\n",
              "        [-1.2034    , -0.37976   ,  0.10127   , -0.1335    , -0.15223   ,\n",
              "          1.8406    ,  1.802     , -1.0476    , -0.25802   ,  0.67949   ,\n",
              "         -0.66215   ,  0.45679   , -3.9212    ,  0.18932   ,  0.51705   ,\n",
              "         -0.44344   ,  0.80477   , -0.20109   ,  0.044816  , -0.12235   ,\n",
              "         -0.17521   ,  0.69811   ,  1.4452    ,  0.55256   ,  0.84004   ],\n",
              "        [-0.59017   , -0.34255   ,  1.0264    , -0.30462   , -0.48831   ,\n",
              "         -0.33695   ,  0.43595   , -0.87176   , -0.17744   , -0.20158   ,\n",
              "         -0.0088446 ,  0.27903   , -3.0724    ,  0.039808  , -0.42045   ,\n",
              "         -0.18169   , -0.21435   , -0.46684   ,  0.53293   ,  0.90605   ,\n",
              "         -0.43392   , -0.029975  ,  0.53665   , -0.47677   ,  0.40605   ],\n",
              "        [-0.10036   ,  0.23027   , -0.55213   ,  0.44624   ,  0.035346  ,\n",
              "         -0.11397   ,  0.94391   , -0.31306   , -0.77851   , -0.29845   ,\n",
              "         -0.98505   , -0.40621   , -3.5958    , -0.24957   ,  1.1021    ,\n",
              "         -1.2375    ,  0.5331    , -0.15666   ,  0.12697   , -0.41875   ,\n",
              "          0.37798   ,  1.0944    , -0.2731    ,  0.073125  , -1.0009    ],\n",
              "        [-0.43103   ,  0.90215   , -0.18112   , -0.53684   ,  0.39468   ,\n",
              "          0.14496   ,  1.3358    , -0.93469   ,  0.057636  , -0.016199  ,\n",
              "         -0.89613   ,  0.1223    , -5.3107    ,  0.085847  ,  0.73645   ,\n",
              "         -0.010881  ,  0.53315   , -0.62596   , -0.19967   , -0.82147   ,\n",
              "         -0.34758   , -0.34909   ,  0.20439   ,  0.81419   ,  0.16562   ],\n",
              "        [ 0.9000557 ,  0.8116798 ,  0.15354685,  0.13971692,  0.1932508 ,\n",
              "          0.33379456,  0.15950307,  0.04491565,  0.9385884 ,  0.17672502,\n",
              "          0.5181369 ,  0.6437661 ,  0.30561405,  0.35415107,  0.43610233,\n",
              "          0.79782254,  0.17095692,  0.5990402 ,  0.38059884,  0.9446194 ,\n",
              "          0.5475993 ,  0.46574894,  0.02150698,  0.95083046,  0.44508058],\n",
              "        [-0.058224  ,  0.79651   , -0.060888  , -0.58459   , -0.56228   ,\n",
              "         -0.072496  ,  1.8592    , -0.42394   , -0.56051   , -0.057096  ,\n",
              "          0.44406   ,  0.31399   , -5.8856    ,  0.061965  , -0.20702   ,\n",
              "         -0.046447  ,  0.75287   , -0.58468   ,  0.25053   , -0.72399   ,\n",
              "         -0.13122   ,  0.37822   , -0.17631   ,  0.43037   , -0.45315   ],\n",
              "        [-0.26536   ,  1.5467    ,  0.39805   , -0.55764   , -0.051273  ,\n",
              "         -0.090431  ,  1.2663    , -0.14903   , -0.72469   ,  0.39007   ,\n",
              "         -0.25664   ,  0.87859   , -4.1568    , -0.24098   ,  0.53971   ,\n",
              "         -0.42647   ,  0.56943   , -0.64409   , -0.84317   , -0.94212   ,\n",
              "         -0.24363   ,  0.42796   , -0.34302   ,  1.4423    , -0.30803   ],\n",
              "        [-0.14542   ,  0.71633   , -0.10647   , -0.30489   , -0.34494   ,\n",
              "          0.62609   ,  1.5567    , -0.20545   , -0.34687   , -0.42515   ,\n",
              "         -0.27767   ,  0.81688   , -5.1842    , -0.28563   ,  0.33763   ,\n",
              "          0.067217  ,  0.14656   , -1.189     ,  0.30138   , -0.57498   ,\n",
              "         -0.010327  ,  0.51313   , -0.084     ,  0.55768   , -0.47416   ]],\n",
              "       dtype=float32)]"
            ]
          },
          "metadata": {
            "tags": []
          },
          "execution_count": 30
        }
      ]
    },
    {
      "cell_type": "code",
      "metadata": {
        "id": "Hw5uLn6SXjNR",
        "colab_type": "code",
        "outputId": "36445459-9fa4-482d-bc58-ae6ca5526a06",
        "colab": {
          "base_uri": "https://localhost:8080/",
          "height": 34
        }
      },
      "source": [
        "embedding_layer_weight[0].shape"
      ],
      "execution_count": 0,
      "outputs": [
        {
          "output_type": "execute_result",
          "data": {
            "text/plain": [
              "(18, 25)"
            ]
          },
          "metadata": {
            "tags": []
          },
          "execution_count": 31
        }
      ]
    },
    {
      "cell_type": "code",
      "metadata": {
        "id": "rTibSBMrXpXY",
        "colab_type": "code",
        "outputId": "342e1a4b-64bf-4169-968f-bcaf430d6cde",
        "colab": {
          "base_uri": "https://localhost:8080/",
          "height": 1000
        }
      },
      "source": [
        "pred_glove = model.predict(padded_reviews)\n",
        "pred_glove"
      ],
      "execution_count": 0,
      "outputs": [
        {
          "output_type": "execute_result",
          "data": {
            "text/plain": [
              "array([[[ 0.35787   ,  0.53172   ,  0.02891   , -0.11454   ,\n",
              "         -0.9309    , -0.058475  ,  1.6786    , -0.26025   ,\n",
              "         -0.79749   , -0.29905   , -0.049528  ,  0.37763   ,\n",
              "         -5.4355    , -0.14486   , -0.4962    ,  0.98797   ,\n",
              "          0.12834   , -0.033029  ,  0.52323   , -1.0346    ,\n",
              "          0.55156   ,  0.7415    ,  0.20227   ,  0.67147   ,\n",
              "          0.036255  ],\n",
              "        [-0.72052   ,  0.77606   ,  0.58006   , -0.76466   ,\n",
              "         -0.45005   , -0.21402   ,  1.5047    , -0.40918   ,\n",
              "         -0.43951   , -0.14405   , -0.1272    ,  0.72284   ,\n",
              "         -4.3729    ,  0.51053   ,  0.42036   ,  0.035156  ,\n",
              "         -0.10893   , -0.75633   , -0.63182   , -0.35142   ,\n",
              "         -0.31829   , -0.71342   ,  0.51693   ,  0.10108   ,\n",
              "          0.48018   ],\n",
              "        [-0.74355   ,  0.715     , -0.1593    , -0.28136   ,\n",
              "         -0.736     , -0.17702   ,  1.0432    ,  0.62863   ,\n",
              "         -1.0324    ,  0.44264   , -0.11356   ,  0.30086   ,\n",
              "         -4.7917    , -0.22962   , -0.21154   , -0.14965   ,\n",
              "         -0.31582   , -1.3908    , -0.736     , -0.46094   ,\n",
              "         -0.13124   , -0.96047   ,  1.2604    ,  0.2479    ,\n",
              "         -0.44585   ],\n",
              "        [ 0.96450347,  0.6892435 ,  0.19204415,  0.63665587,\n",
              "          0.6144509 ,  0.08198912,  0.34201977,  0.38128507,\n",
              "          0.14413469,  0.33028036,  0.03865209,  0.290697  ,\n",
              "          0.2600713 ,  0.9479322 ,  0.7827116 ,  0.18350631,\n",
              "          0.7477053 ,  0.2063826 ,  0.37889558,  0.14032003,\n",
              "          0.24321668,  0.0787776 ,  0.32935488,  0.5474995 ,\n",
              "          0.8264487 ]],\n",
              "\n",
              "       [[ 0.21438   , -0.66014   , -0.16823   ,  0.27111   ,\n",
              "          0.75163   ,  1.4539    ,  1.3342    ,  0.45775   ,\n",
              "         -1.0655    , -0.43815   , -0.3065    , -1.0593    ,\n",
              "         -3.0458    ,  0.15611   ,  1.9577    ,  1.2217    ,\n",
              "          0.35779   ,  0.4452    , -0.34816   , -0.47898   ,\n",
              "          0.62939   ,  0.82832   ,  0.74702   ,  0.15725   ,\n",
              "         -0.10929   ],\n",
              "        [-0.30753   ,  0.88404   , -1.0297    , -0.61819   ,\n",
              "          1.0883    , -0.51168   ,  0.20697   , -0.43241   ,\n",
              "          1.2657    ,  0.45289   ,  0.51967   ,  0.050615  ,\n",
              "         -3.8389    ,  0.59332   ,  1.0632    ,  0.32348   ,\n",
              "          0.85886   , -0.043038  , -0.57752   , -0.17569   ,\n",
              "         -0.33373   , -1.6769    , -0.46403   , -0.25104   ,\n",
              "         -0.54795   ],\n",
              "        [ 0.96450347,  0.6892435 ,  0.19204415,  0.63665587,\n",
              "          0.6144509 ,  0.08198912,  0.34201977,  0.38128507,\n",
              "          0.14413469,  0.33028036,  0.03865209,  0.290697  ,\n",
              "          0.2600713 ,  0.9479322 ,  0.7827116 ,  0.18350631,\n",
              "          0.7477053 ,  0.2063826 ,  0.37889558,  0.14032003,\n",
              "          0.24321668,  0.0787776 ,  0.32935488,  0.5474995 ,\n",
              "          0.8264487 ],\n",
              "        [ 0.96450347,  0.6892435 ,  0.19204415,  0.63665587,\n",
              "          0.6144509 ,  0.08198912,  0.34201977,  0.38128507,\n",
              "          0.14413469,  0.33028036,  0.03865209,  0.290697  ,\n",
              "          0.2600713 ,  0.9479322 ,  0.7827116 ,  0.18350631,\n",
              "          0.7477053 ,  0.2063826 ,  0.37889558,  0.14032003,\n",
              "          0.24321668,  0.0787776 ,  0.32935488,  0.5474995 ,\n",
              "          0.8264487 ]],\n",
              "\n",
              "       [[ 0.1106    , -0.21242   , -0.54371   ,  0.087623  ,\n",
              "          0.75953   ,  0.48431   ,  1.1578    , -0.92707   ,\n",
              "         -0.78507   ,  0.16242   , -1.7855    ,  0.30589   ,\n",
              "         -3.113     , -1.0697    ,  0.39149   ,  0.34626   ,\n",
              "          0.2671    , -0.68303   , -0.42439   , -0.84779   ,\n",
              "          1.9041    ,  0.80355   , -0.049907  , -0.64053   ,\n",
              "         -0.93139   ],\n",
              "        [-1.4825    ,  0.62657   ,  0.62201   ,  0.024574  ,\n",
              "          0.6235    , -0.61351   ,  0.38097   , -1.6075    ,\n",
              "          0.45119   ,  0.028282  ,  0.72049   , -0.34335   ,\n",
              "         -2.0518    , -0.95033   ,  0.34872   , -0.0555    ,\n",
              "          1.6582    , -0.72177   , -0.17695   , -0.091959  ,\n",
              "          1.2747    , -0.11061   , -0.74769   , -0.23359   ,\n",
              "          0.033845  ],\n",
              "        [ 0.96450347,  0.6892435 ,  0.19204415,  0.63665587,\n",
              "          0.6144509 ,  0.08198912,  0.34201977,  0.38128507,\n",
              "          0.14413469,  0.33028036,  0.03865209,  0.290697  ,\n",
              "          0.2600713 ,  0.9479322 ,  0.7827116 ,  0.18350631,\n",
              "          0.7477053 ,  0.2063826 ,  0.37889558,  0.14032003,\n",
              "          0.24321668,  0.0787776 ,  0.32935488,  0.5474995 ,\n",
              "          0.8264487 ],\n",
              "        [ 0.96450347,  0.6892435 ,  0.19204415,  0.63665587,\n",
              "          0.6144509 ,  0.08198912,  0.34201977,  0.38128507,\n",
              "          0.14413469,  0.33028036,  0.03865209,  0.290697  ,\n",
              "          0.2600713 ,  0.9479322 ,  0.7827116 ,  0.18350631,\n",
              "          0.7477053 ,  0.2063826 ,  0.37889558,  0.14032003,\n",
              "          0.24321668,  0.0787776 ,  0.32935488,  0.5474995 ,\n",
              "          0.8264487 ]],\n",
              "\n",
              "       [[-1.2034    , -0.37976   ,  0.10127   , -0.1335    ,\n",
              "         -0.15223   ,  1.8406    ,  1.802     , -1.0476    ,\n",
              "         -0.25802   ,  0.67949   , -0.66215   ,  0.45679   ,\n",
              "         -3.9212    ,  0.18932   ,  0.51705   , -0.44344   ,\n",
              "          0.80477   , -0.20109   ,  0.044816  , -0.12235   ,\n",
              "         -0.17521   ,  0.69811   ,  1.4452    ,  0.55256   ,\n",
              "          0.84004   ],\n",
              "        [-0.57889   ,  0.52137   , -0.17892   ,  0.2232    ,\n",
              "          0.61681   ,  0.17616   ,  1.6829    , -1.35      ,\n",
              "          0.027486  ,  0.95868   ,  0.22251   , -0.82603   ,\n",
              "         -4.3866    , -0.5528    ,  0.20004   , -0.44304   ,\n",
              "          1.3508    , -1.0176    ,  0.069551  ,  0.023407  ,\n",
              "         -0.21827   , -0.57156   , -0.74594   ,  0.26706   ,\n",
              "          0.96434   ],\n",
              "        [ 0.96450347,  0.6892435 ,  0.19204415,  0.63665587,\n",
              "          0.6144509 ,  0.08198912,  0.34201977,  0.38128507,\n",
              "          0.14413469,  0.33028036,  0.03865209,  0.290697  ,\n",
              "          0.2600713 ,  0.9479322 ,  0.7827116 ,  0.18350631,\n",
              "          0.7477053 ,  0.2063826 ,  0.37889558,  0.14032003,\n",
              "          0.24321668,  0.0787776 ,  0.32935488,  0.5474995 ,\n",
              "          0.8264487 ],\n",
              "        [ 0.96450347,  0.6892435 ,  0.19204415,  0.63665587,\n",
              "          0.6144509 ,  0.08198912,  0.34201977,  0.38128507,\n",
              "          0.14413469,  0.33028036,  0.03865209,  0.290697  ,\n",
              "          0.2600713 ,  0.9479322 ,  0.7827116 ,  0.18350631,\n",
              "          0.7477053 ,  0.2063826 ,  0.37889558,  0.14032003,\n",
              "          0.24321668,  0.0787776 ,  0.32935488,  0.5474995 ,\n",
              "          0.8264487 ]],\n",
              "\n",
              "       [[ 0.21438   , -0.66014   , -0.16823   ,  0.27111   ,\n",
              "          0.75163   ,  1.4539    ,  1.3342    ,  0.45775   ,\n",
              "         -1.0655    , -0.43815   , -0.3065    , -1.0593    ,\n",
              "         -3.0458    ,  0.15611   ,  1.9577    ,  1.2217    ,\n",
              "          0.35779   ,  0.4452    , -0.34816   , -0.47898   ,\n",
              "          0.62939   ,  0.82832   ,  0.74702   ,  0.15725   ,\n",
              "         -0.10929   ],\n",
              "        [-0.57889   ,  0.52137   , -0.17892   ,  0.2232    ,\n",
              "          0.61681   ,  0.17616   ,  1.6829    , -1.35      ,\n",
              "          0.027486  ,  0.95868   ,  0.22251   , -0.82603   ,\n",
              "         -4.3866    , -0.5528    ,  0.20004   , -0.44304   ,\n",
              "          1.3508    , -1.0176    ,  0.069551  ,  0.023407  ,\n",
              "         -0.21827   , -0.57156   , -0.74594   ,  0.26706   ,\n",
              "          0.96434   ],\n",
              "        [ 0.96450347,  0.6892435 ,  0.19204415,  0.63665587,\n",
              "          0.6144509 ,  0.08198912,  0.34201977,  0.38128507,\n",
              "          0.14413469,  0.33028036,  0.03865209,  0.290697  ,\n",
              "          0.2600713 ,  0.9479322 ,  0.7827116 ,  0.18350631,\n",
              "          0.7477053 ,  0.2063826 ,  0.37889558,  0.14032003,\n",
              "          0.24321668,  0.0787776 ,  0.32935488,  0.5474995 ,\n",
              "          0.8264487 ],\n",
              "        [ 0.96450347,  0.6892435 ,  0.19204415,  0.63665587,\n",
              "          0.6144509 ,  0.08198912,  0.34201977,  0.38128507,\n",
              "          0.14413469,  0.33028036,  0.03865209,  0.290697  ,\n",
              "          0.2600713 ,  0.9479322 ,  0.7827116 ,  0.18350631,\n",
              "          0.7477053 ,  0.2063826 ,  0.37889558,  0.14032003,\n",
              "          0.24321668,  0.0787776 ,  0.32935488,  0.5474995 ,\n",
              "          0.8264487 ]],\n",
              "\n",
              "       [[-0.33488   , -0.27497   ,  0.2499    , -1.012     ,\n",
              "          0.38187   ,  0.58403   ,  2.074     ,  0.17416   ,\n",
              "         -0.54281   , -0.63375   , -0.22883   ,  0.87451   ,\n",
              "         -3.9213    , -0.22059   ,  0.13178   ,  0.22203   ,\n",
              "          0.8799    , -0.76095   , -0.33228   ,  0.29484   ,\n",
              "         -0.62871   , -0.30533   , -0.92823   ,  0.16009   ,\n",
              "         -0.18372   ],\n",
              "        [ 0.96450347,  0.6892435 ,  0.19204415,  0.63665587,\n",
              "          0.6144509 ,  0.08198912,  0.34201977,  0.38128507,\n",
              "          0.14413469,  0.33028036,  0.03865209,  0.290697  ,\n",
              "          0.2600713 ,  0.9479322 ,  0.7827116 ,  0.18350631,\n",
              "          0.7477053 ,  0.2063826 ,  0.37889558,  0.14032003,\n",
              "          0.24321668,  0.0787776 ,  0.32935488,  0.5474995 ,\n",
              "          0.8264487 ],\n",
              "        [ 0.96450347,  0.6892435 ,  0.19204415,  0.63665587,\n",
              "          0.6144509 ,  0.08198912,  0.34201977,  0.38128507,\n",
              "          0.14413469,  0.33028036,  0.03865209,  0.290697  ,\n",
              "          0.2600713 ,  0.9479322 ,  0.7827116 ,  0.18350631,\n",
              "          0.7477053 ,  0.2063826 ,  0.37889558,  0.14032003,\n",
              "          0.24321668,  0.0787776 ,  0.32935488,  0.5474995 ,\n",
              "          0.8264487 ],\n",
              "        [ 0.96450347,  0.6892435 ,  0.19204415,  0.63665587,\n",
              "          0.6144509 ,  0.08198912,  0.34201977,  0.38128507,\n",
              "          0.14413469,  0.33028036,  0.03865209,  0.290697  ,\n",
              "          0.2600713 ,  0.9479322 ,  0.7827116 ,  0.18350631,\n",
              "          0.7477053 ,  0.2063826 ,  0.37889558,  0.14032003,\n",
              "          0.24321668,  0.0787776 ,  0.32935488,  0.5474995 ,\n",
              "          0.8264487 ]],\n",
              "\n",
              "       [[-0.33488   , -0.27497   ,  0.2499    , -1.012     ,\n",
              "          0.38187   ,  0.58403   ,  2.074     ,  0.17416   ,\n",
              "         -0.54281   , -0.63375   , -0.22883   ,  0.87451   ,\n",
              "         -3.9213    , -0.22059   ,  0.13178   ,  0.22203   ,\n",
              "          0.8799    , -0.76095   , -0.33228   ,  0.29484   ,\n",
              "         -0.62871   , -0.30533   , -0.92823   ,  0.16009   ,\n",
              "         -0.18372   ],\n",
              "        [-0.30753   ,  0.88404   , -1.0297    , -0.61819   ,\n",
              "          1.0883    , -0.51168   ,  0.20697   , -0.43241   ,\n",
              "          1.2657    ,  0.45289   ,  0.51967   ,  0.050615  ,\n",
              "         -3.8389    ,  0.59332   ,  1.0632    ,  0.32348   ,\n",
              "          0.85886   , -0.043038  , -0.57752   , -0.17569   ,\n",
              "         -0.33373   , -1.6769    , -0.46403   , -0.25104   ,\n",
              "         -0.54795   ],\n",
              "        [ 0.96450347,  0.6892435 ,  0.19204415,  0.63665587,\n",
              "          0.6144509 ,  0.08198912,  0.34201977,  0.38128507,\n",
              "          0.14413469,  0.33028036,  0.03865209,  0.290697  ,\n",
              "          0.2600713 ,  0.9479322 ,  0.7827116 ,  0.18350631,\n",
              "          0.7477053 ,  0.2063826 ,  0.37889558,  0.14032003,\n",
              "          0.24321668,  0.0787776 ,  0.32935488,  0.5474995 ,\n",
              "          0.8264487 ],\n",
              "        [ 0.96450347,  0.6892435 ,  0.19204415,  0.63665587,\n",
              "          0.6144509 ,  0.08198912,  0.34201977,  0.38128507,\n",
              "          0.14413469,  0.33028036,  0.03865209,  0.290697  ,\n",
              "          0.2600713 ,  0.9479322 ,  0.7827116 ,  0.18350631,\n",
              "          0.7477053 ,  0.2063826 ,  0.37889558,  0.14032003,\n",
              "          0.24321668,  0.0787776 ,  0.32935488,  0.5474995 ,\n",
              "          0.8264487 ]],\n",
              "\n",
              "       [[-0.59017   , -0.34255   ,  1.0264    , -0.30462   ,\n",
              "         -0.48831   , -0.33695   ,  0.43595   , -0.87176   ,\n",
              "         -0.17744   , -0.20158   , -0.0088446 ,  0.27903   ,\n",
              "         -3.0724    ,  0.039808  , -0.42045   , -0.18169   ,\n",
              "         -0.21435   , -0.46684   ,  0.53293   ,  0.90605   ,\n",
              "         -0.43392   , -0.029975  ,  0.53665   , -0.47677   ,\n",
              "          0.40605   ],\n",
              "        [ 0.96450347,  0.6892435 ,  0.19204415,  0.63665587,\n",
              "          0.6144509 ,  0.08198912,  0.34201977,  0.38128507,\n",
              "          0.14413469,  0.33028036,  0.03865209,  0.290697  ,\n",
              "          0.2600713 ,  0.9479322 ,  0.7827116 ,  0.18350631,\n",
              "          0.7477053 ,  0.2063826 ,  0.37889558,  0.14032003,\n",
              "          0.24321668,  0.0787776 ,  0.32935488,  0.5474995 ,\n",
              "          0.8264487 ],\n",
              "        [ 0.96450347,  0.6892435 ,  0.19204415,  0.63665587,\n",
              "          0.6144509 ,  0.08198912,  0.34201977,  0.38128507,\n",
              "          0.14413469,  0.33028036,  0.03865209,  0.290697  ,\n",
              "          0.2600713 ,  0.9479322 ,  0.7827116 ,  0.18350631,\n",
              "          0.7477053 ,  0.2063826 ,  0.37889558,  0.14032003,\n",
              "          0.24321668,  0.0787776 ,  0.32935488,  0.5474995 ,\n",
              "          0.8264487 ],\n",
              "        [ 0.96450347,  0.6892435 ,  0.19204415,  0.63665587,\n",
              "          0.6144509 ,  0.08198912,  0.34201977,  0.38128507,\n",
              "          0.14413469,  0.33028036,  0.03865209,  0.290697  ,\n",
              "          0.2600713 ,  0.9479322 ,  0.7827116 ,  0.18350631,\n",
              "          0.7477053 ,  0.2063826 ,  0.37889558,  0.14032003,\n",
              "          0.24321668,  0.0787776 ,  0.32935488,  0.5474995 ,\n",
              "          0.8264487 ]],\n",
              "\n",
              "       [[-0.10036   ,  0.23027   , -0.55213   ,  0.44624   ,\n",
              "          0.035346  , -0.11397   ,  0.94391   , -0.31306   ,\n",
              "         -0.77851   , -0.29845   , -0.98505   , -0.40621   ,\n",
              "         -3.5958    , -0.24957   ,  1.1021    , -1.2375    ,\n",
              "          0.5331    , -0.15666   ,  0.12697   , -0.41875   ,\n",
              "          0.37798   ,  1.0944    , -0.2731    ,  0.073125  ,\n",
              "         -1.0009    ],\n",
              "        [-0.43103   ,  0.90215   , -0.18112   , -0.53684   ,\n",
              "          0.39468   ,  0.14496   ,  1.3358    , -0.93469   ,\n",
              "          0.057636  , -0.016199  , -0.89613   ,  0.1223    ,\n",
              "         -5.3107    ,  0.085847  ,  0.73645   , -0.010881  ,\n",
              "          0.53315   , -0.62596   , -0.19967   , -0.82147   ,\n",
              "         -0.34758   , -0.34909   ,  0.20439   ,  0.81419   ,\n",
              "          0.16562   ],\n",
              "        [ 0.96450347,  0.6892435 ,  0.19204415,  0.63665587,\n",
              "          0.6144509 ,  0.08198912,  0.34201977,  0.38128507,\n",
              "          0.14413469,  0.33028036,  0.03865209,  0.290697  ,\n",
              "          0.2600713 ,  0.9479322 ,  0.7827116 ,  0.18350631,\n",
              "          0.7477053 ,  0.2063826 ,  0.37889558,  0.14032003,\n",
              "          0.24321668,  0.0787776 ,  0.32935488,  0.5474995 ,\n",
              "          0.8264487 ],\n",
              "        [ 0.96450347,  0.6892435 ,  0.19204415,  0.63665587,\n",
              "          0.6144509 ,  0.08198912,  0.34201977,  0.38128507,\n",
              "          0.14413469,  0.33028036,  0.03865209,  0.290697  ,\n",
              "          0.2600713 ,  0.9479322 ,  0.7827116 ,  0.18350631,\n",
              "          0.7477053 ,  0.2063826 ,  0.37889558,  0.14032003,\n",
              "          0.24321668,  0.0787776 ,  0.32935488,  0.5474995 ,\n",
              "          0.8264487 ]],\n",
              "\n",
              "       [[ 0.9000557 ,  0.8116798 ,  0.15354685,  0.13971692,\n",
              "          0.1932508 ,  0.33379456,  0.15950307,  0.04491565,\n",
              "          0.9385884 ,  0.17672502,  0.5181369 ,  0.6437661 ,\n",
              "          0.30561405,  0.35415107,  0.43610233,  0.79782254,\n",
              "          0.17095692,  0.5990402 ,  0.38059884,  0.9446194 ,\n",
              "          0.5475993 ,  0.46574894,  0.02150698,  0.95083046,\n",
              "          0.44508058],\n",
              "        [-0.058224  ,  0.79651   , -0.060888  , -0.58459   ,\n",
              "         -0.56228   , -0.072496  ,  1.8592    , -0.42394   ,\n",
              "         -0.56051   , -0.057096  ,  0.44406   ,  0.31399   ,\n",
              "         -5.8856    ,  0.061965  , -0.20702   , -0.046447  ,\n",
              "          0.75287   , -0.58468   ,  0.25053   , -0.72399   ,\n",
              "         -0.13122   ,  0.37822   , -0.17631   ,  0.43037   ,\n",
              "         -0.45315   ],\n",
              "        [-0.26536   ,  1.5467    ,  0.39805   , -0.55764   ,\n",
              "         -0.051273  , -0.090431  ,  1.2663    , -0.14903   ,\n",
              "         -0.72469   ,  0.39007   , -0.25664   ,  0.87859   ,\n",
              "         -4.1568    , -0.24098   ,  0.53971   , -0.42647   ,\n",
              "          0.56943   , -0.64409   , -0.84317   , -0.94212   ,\n",
              "         -0.24363   ,  0.42796   , -0.34302   ,  1.4423    ,\n",
              "         -0.30803   ],\n",
              "        [-0.14542   ,  0.71633   , -0.10647   , -0.30489   ,\n",
              "         -0.34494   ,  0.62609   ,  1.5567    , -0.20545   ,\n",
              "         -0.34687   , -0.42515   , -0.27767   ,  0.81688   ,\n",
              "         -5.1842    , -0.28563   ,  0.33763   ,  0.067217  ,\n",
              "          0.14656   , -1.189     ,  0.30138   , -0.57498   ,\n",
              "         -0.010327  ,  0.51313   , -0.084     ,  0.55768   ,\n",
              "         -0.47416   ]]], dtype=float32)"
            ]
          },
          "metadata": {
            "tags": []
          },
          "execution_count": 32
        }
      ]
    },
    {
      "cell_type": "code",
      "metadata": {
        "id": "s_5zHBN8Xx1c",
        "colab_type": "code",
        "outputId": "db34ac2b-6c41-48f5-966b-5c65a6ba5901",
        "colab": {
          "base_uri": "https://localhost:8080/",
          "height": 380
        }
      },
      "source": [
        "pred_glove[0]"
      ],
      "execution_count": 0,
      "outputs": [
        {
          "output_type": "execute_result",
          "data": {
            "text/plain": [
              "array([[ 0.35787   ,  0.53172   ,  0.02891   , -0.11454   , -0.9309    ,\n",
              "        -0.058475  ,  1.6786    , -0.26025   , -0.79749   , -0.29905   ,\n",
              "        -0.049528  ,  0.37763   , -5.4355    , -0.14486   , -0.4962    ,\n",
              "         0.98797   ,  0.12834   , -0.033029  ,  0.52323   , -1.0346    ,\n",
              "         0.55156   ,  0.7415    ,  0.20227   ,  0.67147   ,  0.036255  ],\n",
              "       [-0.72052   ,  0.77606   ,  0.58006   , -0.76466   , -0.45005   ,\n",
              "        -0.21402   ,  1.5047    , -0.40918   , -0.43951   , -0.14405   ,\n",
              "        -0.1272    ,  0.72284   , -4.3729    ,  0.51053   ,  0.42036   ,\n",
              "         0.035156  , -0.10893   , -0.75633   , -0.63182   , -0.35142   ,\n",
              "        -0.31829   , -0.71342   ,  0.51693   ,  0.10108   ,  0.48018   ],\n",
              "       [-0.74355   ,  0.715     , -0.1593    , -0.28136   , -0.736     ,\n",
              "        -0.17702   ,  1.0432    ,  0.62863   , -1.0324    ,  0.44264   ,\n",
              "        -0.11356   ,  0.30086   , -4.7917    , -0.22962   , -0.21154   ,\n",
              "        -0.14965   , -0.31582   , -1.3908    , -0.736     , -0.46094   ,\n",
              "        -0.13124   , -0.96047   ,  1.2604    ,  0.2479    , -0.44585   ],\n",
              "       [ 0.96450347,  0.6892435 ,  0.19204415,  0.63665587,  0.6144509 ,\n",
              "         0.08198912,  0.34201977,  0.38128507,  0.14413469,  0.33028036,\n",
              "         0.03865209,  0.290697  ,  0.2600713 ,  0.9479322 ,  0.7827116 ,\n",
              "         0.18350631,  0.7477053 ,  0.2063826 ,  0.37889558,  0.14032003,\n",
              "         0.24321668,  0.0787776 ,  0.32935488,  0.5474995 ,  0.8264487 ]],\n",
              "      dtype=float32)"
            ]
          },
          "metadata": {
            "tags": []
          },
          "execution_count": 33
        }
      ]
    },
    {
      "cell_type": "code",
      "metadata": {
        "id": "63aUK71xof_q",
        "colab_type": "code",
        "colab": {}
      },
      "source": [
        "never 0.35787 0.53172 0.02891 -0.11454 -0.9309 -0.058475 1.6786 -0.26025 -0.79749 -0.29905 -0.049528 0.37763 -5.4355 -0.14486 -0.4962 0.98797 0.12834 -0.033029 0.52323 -1.0346 0.55156 0.7415 0.20227 0.67147 0.036255\n"
      ],
      "execution_count": 0,
      "outputs": []
    },
    {
      "cell_type": "code",
      "metadata": {
        "id": "P41eVbu0Ztm6",
        "colab_type": "code",
        "colab": {}
      },
      "source": [
        "never 0.35787 0.53172 0.02891 -0.11454 -0.9309 -0.058475 1.6786 -0.26025 -0.79749 -0.29905 -0.049528 0.37763 -5.4355 -0.14486 -0.4962 0.98797 0.12834 -0.033029 0.52323 -1.0346 0.55156 0.7415 0.20227 0.67147 0.036255\n",
        "\n"
      ],
      "execution_count": 0,
      "outputs": []
    }
  ]
}