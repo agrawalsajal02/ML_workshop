{
  "nbformat": 4,
  "nbformat_minor": 0,
  "metadata": {
    "colab": {
      "name": "workshop 5 image classification.ipynb",
      "provenance": [],
      "mount_file_id": "1rD4_pUwLbrqsLP9xi45UPyPV_B17Ndyp",
      "authorship_tag": "ABX9TyOI/pV9jehb59WazUHrUkRm",
      "include_colab_link": true
    },
    "kernelspec": {
      "name": "python3",
      "display_name": "Python 3"
    },
    "accelerator": "GPU"
  },
  "cells": [
    {
      "cell_type": "markdown",
      "metadata": {
        "id": "view-in-github",
        "colab_type": "text"
      },
      "source": [
        "<a href=\"https://colab.research.google.com/github/agrawalsajal02/ML_workshop/blob/master/workshop_5_image_classification.ipynb\" target=\"_parent\"><img src=\"https://colab.research.google.com/assets/colab-badge.svg\" alt=\"Open In Colab\"/></a>"
      ]
    },
    {
      "cell_type": "code",
      "metadata": {
        "id": "iFH-Oc8K1K5a",
        "colab_type": "code",
        "colab": {}
      },
      "source": [
        "import pandas as pd"
      ],
      "execution_count": 0,
      "outputs": []
    },
    {
      "cell_type": "code",
      "metadata": {
        "id": "iHPCvrD212ng",
        "colab_type": "code",
        "colab": {}
      },
      "source": [
        "file=pd.read_csv(\"/content/drive/My Drive/AI-ML-Course/CNN_image_dataset/ecuador.train\",sep=\" \",names=[\"text\",\"label\"])"
      ],
      "execution_count": 0,
      "outputs": []
    },
    {
      "cell_type": "code",
      "metadata": {
        "id": "FBjDgnXa46mK",
        "colab_type": "code",
        "colab": {}
      },
      "source": [
        "data=file[\"text\"]\n",
        "label=file[\"label\"]\n",
        "data=data.head(500)\n",
        "label=label.head(500)"
      ],
      "execution_count": 0,
      "outputs": []
    },
    {
      "cell_type": "code",
      "metadata": {
        "id": "9vIeLf6D4661",
        "colab_type": "code",
        "outputId": "6ce2318d-0e83-462c-ed72-2941a3f5082a",
        "colab": {
          "base_uri": "https://localhost:8080/",
          "height": 54
        }
      },
      "source": [
        "print(data.shape)\n",
        "print(label.shape)"
      ],
      "execution_count": 0,
      "outputs": [
        {
          "output_type": "stream",
          "text": [
            "(500,)\n",
            "(500,)\n"
          ],
          "name": "stdout"
        }
      ]
    },
    {
      "cell_type": "code",
      "metadata": {
        "id": "oko3ojlW5g6c",
        "colab_type": "code",
        "outputId": "649efe5a-5898-4e36-882e-560fe109dc05",
        "colab": {
          "base_uri": "https://localhost:8080/",
          "height": 128
        }
      },
      "source": [
        "data.head()"
      ],
      "execution_count": 0,
      "outputs": [
        {
          "output_type": "execute_result",
          "data": {
            "text/plain": [
              "0        ecuador_eq/ecuador_eq_severe_im_645.jpg\n",
              "1       ecuador_eq/ecuador_eq_severe_im_1378.jpg\n",
              "2         ecuador_eq/ecuador_eq_none_im_2609.jpg\n",
              "3    ecuador_eq/ecuador_eq_unlabelled_im_100.jpg\n",
              "4         ecuador_eq/ecuador_eq_mild_im_2573.jpg\n",
              "Name: text, dtype: object"
            ]
          },
          "metadata": {
            "tags": []
          },
          "execution_count": 49
        }
      ]
    },
    {
      "cell_type": "code",
      "metadata": {
        "id": "LkZsekQd5xAu",
        "colab_type": "code",
        "colab": {}
      },
      "source": [
        "import numpy as np\n",
        "from keras.utils.np_utils import to_categorical\n",
        "label_final=to_categorical(label)"
      ],
      "execution_count": 0,
      "outputs": []
    },
    {
      "cell_type": "code",
      "metadata": {
        "id": "JkKMbwq86FZq",
        "colab_type": "code",
        "outputId": "1afe8916-adca-4a42-9a5b-12317d68be83",
        "colab": {
          "base_uri": "https://localhost:8080/",
          "height": 147
        }
      },
      "source": [
        "label_final"
      ],
      "execution_count": 0,
      "outputs": [
        {
          "output_type": "execute_result",
          "data": {
            "text/plain": [
              "array([[0., 0., 1.],\n",
              "       [0., 0., 1.],\n",
              "       [1., 0., 0.],\n",
              "       ...,\n",
              "       [0., 0., 1.],\n",
              "       [0., 0., 1.],\n",
              "       [0., 0., 1.]], dtype=float32)"
            ]
          },
          "metadata": {
            "tags": []
          },
          "execution_count": 51
        }
      ]
    },
    {
      "cell_type": "code",
      "metadata": {
        "id": "jJbCJkbu6FfC",
        "colab_type": "code",
        "colab": {}
      },
      "source": [
        "###prepare the inout"
      ],
      "execution_count": 0,
      "outputs": []
    },
    {
      "cell_type": "code",
      "metadata": {
        "id": "6J2XFv1w6RYI",
        "colab_type": "code",
        "colab": {}
      },
      "source": [
        "import cv2"
      ],
      "execution_count": 0,
      "outputs": []
    },
    {
      "cell_type": "code",
      "metadata": {
        "id": "_3cG3aL06Uuo",
        "colab_type": "code",
        "colab": {}
      },
      "source": [
        "import os"
      ],
      "execution_count": 0,
      "outputs": []
    },
    {
      "cell_type": "code",
      "metadata": {
        "id": "WBCE7KMW6VqS",
        "colab_type": "code",
        "colab": {}
      },
      "source": [
        "image_read=[]"
      ],
      "execution_count": 0,
      "outputs": []
    },
    {
      "cell_type": "code",
      "metadata": {
        "id": "WIiTz8jm6ZQu",
        "colab_type": "code",
        "colab": {}
      },
      "source": [
        "for imagepath in data:\n",
        "  #print(imagepath)\n",
        "  image_path1=os.path.join(\"/content/drive/My Drive/AI-ML-Course/CNN_image_dataset/\",imagepath)\n",
        "  image1=cv2.imread(image_path1)\n",
        "  #thsi conver image to pickle format\n",
        "  image2=cv2.resize(image1,(200,200))\n",
        "  image3=image2.astype(\"float32\")\n",
        "  #to notrmalize the value bt 0 and 1 these we convert into float to divide by 255\n",
        "  image4=image3/255\n",
        "  image_read.append(image4)\n",
        "image_array=np.asarray(image_read)"
      ],
      "execution_count": 0,
      "outputs": []
    },
    {
      "cell_type": "code",
      "metadata": {
        "id": "vNummwWF9B8x",
        "colab_type": "code",
        "outputId": "ac0fb84d-bc0b-4726-896f-90dec1795bcc",
        "colab": {
          "base_uri": "https://localhost:8080/",
          "height": 36
        }
      },
      "source": [
        "image_array.shape"
      ],
      "execution_count": 0,
      "outputs": [
        {
          "output_type": "execute_result",
          "data": {
            "text/plain": [
              "(500, 200, 200, 3)"
            ]
          },
          "metadata": {
            "tags": []
          },
          "execution_count": 19
        }
      ]
    },
    {
      "cell_type": "code",
      "metadata": {
        "id": "l1dLDe506f50",
        "colab_type": "code",
        "colab": {}
      },
      "source": [
        "/content/drive/My Drive/AI-ML-Course/CNN_image_dataset/ecuador_eq/ecuador_eq_mild_im_1007.jpg"
      ],
      "execution_count": 0,
      "outputs": []
    },
    {
      "cell_type": "code",
      "metadata": {
        "id": "HTmVBut39leX",
        "colab_type": "code",
        "colab": {}
      },
      "source": [
        "from sklearn.model_selection import train_test_split\n",
        "x_train,x_test,y_train,y_test=train_test_split(image_array,label_final,random_state=42,test_size=0.25)"
      ],
      "execution_count": 0,
      "outputs": []
    },
    {
      "cell_type": "code",
      "metadata": {
        "id": "BasbQHGW-Hyr",
        "colab_type": "code",
        "outputId": "6cfd980a-7a4f-4905-aeae-6bb721f2b2b2",
        "colab": {
          "base_uri": "https://localhost:8080/",
          "height": 36
        }
      },
      "source": [
        "print(x_train.shape,x_test.shape)"
      ],
      "execution_count": 0,
      "outputs": [
        {
          "output_type": "stream",
          "text": [
            "(375, 200, 200, 3) (125, 200, 200, 3)\n"
          ],
          "name": "stdout"
        }
      ]
    },
    {
      "cell_type": "code",
      "metadata": {
        "id": "66QufC-z-Sqq",
        "colab_type": "code",
        "colab": {}
      },
      "source": [
        "from keras.models import Sequential\n",
        "from keras.layers import Dense\n",
        "from keras.layers import Flatten\n",
        "from keras.layers.convolutional import Conv2D\n",
        "from keras.layers.convolutional import MaxPooling2D\n",
        "##create model\n",
        "model=Sequential()\n"
      ],
      "execution_count": 0,
      "outputs": []
    },
    {
      "cell_type": "code",
      "metadata": {
        "id": "NO9jxnA3_9Px",
        "colab_type": "code",
        "colab": {}
      },
      "source": [
        "model.add(Conv2D(32,(3,3),input_shape=(200,200,3),activation=\"relu\"))\n",
        "model.add(MaxPooling2D(pool_size=(2,2)))\n",
        "model.add(Conv2D(64,(3,3),activation=\"relu\"))\n",
        "\n",
        "model.add(MaxPooling2D(pool_size=(2,2)))\n",
        "model.add(Conv2D(64,(3,3),activation=\"relu\"))\n",
        "model.add(MaxPooling2D(pool_size=(2,2)))"
      ],
      "execution_count": 0,
      "outputs": []
    },
    {
      "cell_type": "code",
      "metadata": {
        "id": "IIY84A4BAUuK",
        "colab_type": "code",
        "colab": {}
      },
      "source": [
        "\n",
        "\n",
        "model.add(Flatten())\n",
        "model.add(Dense(512,activation=\"relu\"))\n",
        "model.add(Dense(3,activation=\"softmax\"))"
      ],
      "execution_count": 0,
      "outputs": []
    },
    {
      "cell_type": "code",
      "metadata": {
        "id": "0SKcDODCAaLA",
        "colab_type": "code",
        "outputId": "b24a6ec3-0819-4e1f-ec78-d80054d11bf1",
        "colab": {
          "base_uri": "https://localhost:8080/",
          "height": 500
        }
      },
      "source": [
        "model.summary()\n",
        "#3*3*3*32+32\n",
        "\n",
        "#(3*3*32)*64+64\n",
        "\n",
        "#3*3*64*64+64\n",
        "#23*23*64"
      ],
      "execution_count": 0,
      "outputs": [
        {
          "output_type": "stream",
          "text": [
            "Model: \"sequential_3\"\n",
            "_________________________________________________________________\n",
            "Layer (type)                 Output Shape              Param #   \n",
            "=================================================================\n",
            "conv2d_6 (Conv2D)            (None, 198, 198, 32)      896       \n",
            "_________________________________________________________________\n",
            "max_pooling2d_4 (MaxPooling2 (None, 99, 99, 32)        0         \n",
            "_________________________________________________________________\n",
            "conv2d_7 (Conv2D)            (None, 97, 97, 64)        18496     \n",
            "_________________________________________________________________\n",
            "max_pooling2d_5 (MaxPooling2 (None, 48, 48, 64)        0         \n",
            "_________________________________________________________________\n",
            "conv2d_8 (Conv2D)            (None, 46, 46, 64)        36928     \n",
            "_________________________________________________________________\n",
            "max_pooling2d_6 (MaxPooling2 (None, 23, 23, 64)        0         \n",
            "_________________________________________________________________\n",
            "flatten_1 (Flatten)          (None, 33856)             0         \n",
            "_________________________________________________________________\n",
            "dense_1 (Dense)              (None, 512)               17334784  \n",
            "_________________________________________________________________\n",
            "dense_2 (Dense)              (None, 3)                 1539      \n",
            "=================================================================\n",
            "Total params: 17,392,643\n",
            "Trainable params: 17,392,643\n",
            "Non-trainable params: 0\n",
            "_________________________________________________________________\n"
          ],
          "name": "stdout"
        }
      ]
    },
    {
      "cell_type": "code",
      "metadata": {
        "id": "kKg7FaL6A7US",
        "colab_type": "code",
        "outputId": "a1e0a3f7-3141-4a4f-a5c6-79a08ae92777",
        "colab": {
          "base_uri": "https://localhost:8080/",
          "height": 111
        }
      },
      "source": [
        "model.compile(loss=\"categorical_crossentropy\",optimizer=\"Adam\",metrics=[\"accuracy\"])"
      ],
      "execution_count": 0,
      "outputs": [
        {
          "output_type": "stream",
          "text": [
            "WARNING:tensorflow:From /usr/local/lib/python3.6/dist-packages/keras/optimizers.py:793: The name tf.train.Optimizer is deprecated. Please use tf.compat.v1.train.Optimizer instead.\n",
            "\n",
            "WARNING:tensorflow:From /usr/local/lib/python3.6/dist-packages/keras/backend/tensorflow_backend.py:3576: The name tf.log is deprecated. Please use tf.math.log instead.\n",
            "\n"
          ],
          "name": "stdout"
        }
      ]
    },
    {
      "cell_type": "code",
      "metadata": {
        "id": "aSDpP7fwC7Jt",
        "colab_type": "code",
        "outputId": "9b365c2f-c08f-4c17-8677-90399b0bff42",
        "colab": {
          "base_uri": "https://localhost:8080/",
          "height": 36
        }
      },
      "source": [
        "y_train.shape"
      ],
      "execution_count": 0,
      "outputs": [
        {
          "output_type": "execute_result",
          "data": {
            "text/plain": [
              "(375,)"
            ]
          },
          "metadata": {
            "tags": []
          },
          "execution_count": 42
        }
      ]
    },
    {
      "cell_type": "code",
      "metadata": {
        "id": "GseI9L7kCRvl",
        "colab_type": "code",
        "outputId": "e3d7674f-5b14-4112-f7c0-31cdf3abda9c",
        "colab": {
          "base_uri": "https://localhost:8080/",
          "height": 798
        }
      },
      "source": [
        "model.fit(x_train,y_train,validation_data=(x_test,y_test),epochs=10,verbose=2)"
      ],
      "execution_count": 0,
      "outputs": [
        {
          "output_type": "stream",
          "text": [
            "WARNING:tensorflow:From /usr/local/lib/python3.6/dist-packages/tensorflow_core/python/ops/math_grad.py:1424: where (from tensorflow.python.ops.array_ops) is deprecated and will be removed in a future version.\n",
            "Instructions for updating:\n",
            "Use tf.where in 2.0, which has the same broadcast rule as np.where\n",
            "WARNING:tensorflow:From /usr/local/lib/python3.6/dist-packages/keras/backend/tensorflow_backend.py:1033: The name tf.assign_add is deprecated. Please use tf.compat.v1.assign_add instead.\n",
            "\n",
            "WARNING:tensorflow:From /usr/local/lib/python3.6/dist-packages/keras/backend/tensorflow_backend.py:1020: The name tf.assign is deprecated. Please use tf.compat.v1.assign instead.\n",
            "\n",
            "WARNING:tensorflow:From /usr/local/lib/python3.6/dist-packages/keras/backend/tensorflow_backend.py:3005: The name tf.Session is deprecated. Please use tf.compat.v1.Session instead.\n",
            "\n",
            "Train on 375 samples, validate on 125 samples\n",
            "Epoch 1/10\n",
            "WARNING:tensorflow:From /usr/local/lib/python3.6/dist-packages/keras/backend/tensorflow_backend.py:190: The name tf.get_default_session is deprecated. Please use tf.compat.v1.get_default_session instead.\n",
            "\n",
            "WARNING:tensorflow:From /usr/local/lib/python3.6/dist-packages/keras/backend/tensorflow_backend.py:197: The name tf.ConfigProto is deprecated. Please use tf.compat.v1.ConfigProto instead.\n",
            "\n",
            "WARNING:tensorflow:From /usr/local/lib/python3.6/dist-packages/keras/backend/tensorflow_backend.py:207: The name tf.global_variables is deprecated. Please use tf.compat.v1.global_variables instead.\n",
            "\n",
            "WARNING:tensorflow:From /usr/local/lib/python3.6/dist-packages/keras/backend/tensorflow_backend.py:216: The name tf.is_variable_initialized is deprecated. Please use tf.compat.v1.is_variable_initialized instead.\n",
            "\n",
            "WARNING:tensorflow:From /usr/local/lib/python3.6/dist-packages/keras/backend/tensorflow_backend.py:223: The name tf.variables_initializer is deprecated. Please use tf.compat.v1.variables_initializer instead.\n",
            "\n",
            " - 17s - loss: 1.6085 - acc: 0.4907 - val_loss: 0.9182 - val_acc: 0.5680\n",
            "Epoch 2/10\n",
            " - 1s - loss: 0.9193 - acc: 0.5413 - val_loss: 0.9068 - val_acc: 0.5680\n",
            "Epoch 3/10\n",
            " - 1s - loss: 0.8261 - acc: 0.6133 - val_loss: 0.8759 - val_acc: 0.5760\n",
            "Epoch 4/10\n",
            " - 1s - loss: 0.7491 - acc: 0.6960 - val_loss: 0.8422 - val_acc: 0.6640\n",
            "Epoch 5/10\n",
            " - 1s - loss: 0.5949 - acc: 0.7787 - val_loss: 0.8277 - val_acc: 0.6480\n",
            "Epoch 6/10\n",
            " - 1s - loss: 0.3791 - acc: 0.8747 - val_loss: 0.9411 - val_acc: 0.6560\n",
            "Epoch 7/10\n",
            " - 1s - loss: 0.4596 - acc: 0.8213 - val_loss: 1.0197 - val_acc: 0.6080\n",
            "Epoch 8/10\n",
            " - 1s - loss: 0.3972 - acc: 0.8640 - val_loss: 1.1428 - val_acc: 0.5440\n",
            "Epoch 9/10\n",
            " - 1s - loss: 0.2202 - acc: 0.9147 - val_loss: 1.4460 - val_acc: 0.6000\n",
            "Epoch 10/10\n",
            " - 1s - loss: 0.0818 - acc: 0.9733 - val_loss: 1.6893 - val_acc: 0.5840\n"
          ],
          "name": "stdout"
        },
        {
          "output_type": "execute_result",
          "data": {
            "text/plain": [
              "<keras.callbacks.History at 0x7ff5cb4741d0>"
            ]
          },
          "metadata": {
            "tags": []
          },
          "execution_count": 53
        }
      ]
    },
    {
      "cell_type": "code",
      "metadata": {
        "id": "5KAlnygFCldQ",
        "colab_type": "code",
        "colab": {}
      },
      "source": [
        "prediction_test=model.predict(x_test)\n"
      ],
      "execution_count": 0,
      "outputs": []
    }
  ]
}